
---

### **3. Colab Notebook Setup** (`Unsloth_Challenge_A.ipynb`)
```python
#@title Install Dependencies
!pip install -q triton torch transformers
!git clone https://github.com/luckiri/unsloth-challenge-A
%cd unsloth-challenge-A

#@title Load Implementation
from kernels.nf4_dequantize import (
    test_dequantize, 
    your_dequantize_nf4,
    unsloth_dequantize,
)

#@title Run Benchmark
unsloth_time = test_dequantize(unsloth_dequantize)
our_time = test_dequantize(your_dequantize_nf4)
print(f"Unsloth: {unsloth_time:.2f}s | Ours: {our_time:.2f}s")
print(f"Speedup: {unsloth_time/our_time:.1f}x")
