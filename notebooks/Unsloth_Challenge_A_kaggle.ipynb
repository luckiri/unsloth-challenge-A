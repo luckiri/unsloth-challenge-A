# Cell 1: Install Triton
!pip install triton -q

# Cell 2: Clone Repo
!git clone https://github.com/luckiri/unsloth-challenge-A
%cd unsloth-challenge-A

# Cell 3: Verify Tesla T4
import torch
assert torch.cuda.get_device_name(0) == "Tesla T4", "Requires Tesla T4"

# Cell 4+: Same as Colab notebook
